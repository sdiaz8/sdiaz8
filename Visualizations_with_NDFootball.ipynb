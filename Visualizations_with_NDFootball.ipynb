{
  "nbformat": 4,
  "nbformat_minor": 0,
  "metadata": {
    "kernelspec": {
      "display_name": "Python 3",
      "language": "python",
      "name": "python3"
    },
    "language_info": {
      "codemirror_mode": {
        "name": "ipython",
        "version": 3
      },
      "file_extension": ".py",
      "mimetype": "text/x-python",
      "name": "python",
      "nbconvert_exporter": "python",
      "pygments_lexer": "ipython3",
      "version": "3.8.3"
    },
    "colab": {
      "name": "Diaz_Stefan_Assignment4.ipynb",
      "provenance": [],
      "collapsed_sections": [],
      "include_colab_link": true
    }
  },
  "cells": [
    {
      "cell_type": "markdown",
      "metadata": {
        "id": "view-in-github",
        "colab_type": "text"
      },
      "source": [
        "<a href=\"https://colab.research.google.com/github/sdiaz8/sdiaz8/blob/main/Visualizations_with_NDFootball.ipynb\" target=\"_parent\"><img src=\"https://colab.research.google.com/assets/colab-badge.svg\" alt=\"Open In Colab\"/></a>"
      ]
    },
    {
      "cell_type": "markdown",
      "metadata": {
        "id": "8Wq8WTK427RS"
      },
      "source": [
        "## Use the NDFootballScore file to answer the following questions. Each question answer should be displayed. The meaning of some of the variables are described below.\n",
        "* Season = the year the game was played\n",
        "* Site = Home or Away game\n",
        "* ND Coach = ND Coach's name\n",
        "* W/L/T = Win, Loss or Tie\n",
        "\n",
        "\n",
        "<h3> You may need to recode some variables like W/L/T etc. so that the results are meaningful. Ensure there are sufficient comments in what you are doing.  For example, if there are multiple things asked in one question, separate it out with adequate comments. "
      ]
    },
    {
      "cell_type": "markdown",
      "metadata": {
        "id": "SAWLLKal27RT"
      },
      "source": [
        "### 1. Load and explore the data. Remove unnecessary columns to only retain \"Season, W/L/T, Score, and Opponent\". Rename the `W/L/T` column to `result`. Make all the column names lowercase "
      ]
    },
    {
      "cell_type": "code",
      "metadata": {
        "id": "0lEdcdzT40Df"
      },
      "source": [
        "import pandas as pd\n",
        "import numpy as np\n",
        "import matplotlib.pyplot as plt"
      ],
      "execution_count": null,
      "outputs": []
    },
    {
      "cell_type": "code",
      "metadata": {
        "id": "Sazg1dsp27RU"
      },
      "source": [
        "nd_df = pd.read_csv('/content/NDFootballScore.csv')"
      ],
      "execution_count": null,
      "outputs": []
    },
    {
      "cell_type": "code",
      "metadata": {
        "id": "eDvCkmVL27RU",
        "colab": {
          "base_uri": "https://localhost:8080/",
          "height": 204
        },
        "outputId": "da7a00e5-eeb0-4c89-c46a-a4d5a45bf8a8"
      },
      "source": [
        "nd_df.head()"
      ],
      "execution_count": null,
      "outputs": [
        {
          "output_type": "execute_result",
          "data": {
            "text/html": [
              "<div>\n",
              "<style scoped>\n",
              "    .dataframe tbody tr th:only-of-type {\n",
              "        vertical-align: middle;\n",
              "    }\n",
              "\n",
              "    .dataframe tbody tr th {\n",
              "        vertical-align: top;\n",
              "    }\n",
              "\n",
              "    .dataframe thead th {\n",
              "        text-align: right;\n",
              "    }\n",
              "</style>\n",
              "<table border=\"1\" class=\"dataframe\">\n",
              "  <thead>\n",
              "    <tr style=\"text-align: right;\">\n",
              "      <th></th>\n",
              "      <th>Season</th>\n",
              "      <th>Site</th>\n",
              "      <th>Month</th>\n",
              "      <th>Day</th>\n",
              "      <th>Year</th>\n",
              "      <th>ND Coach</th>\n",
              "      <th>W/L/T</th>\n",
              "      <th>Score</th>\n",
              "      <th>ND Rank</th>\n",
              "      <th>Opponent</th>\n",
              "      <th>Opp. Coach</th>\n",
              "      <th>Opp. Rank</th>\n",
              "    </tr>\n",
              "  </thead>\n",
              "  <tbody>\n",
              "    <tr>\n",
              "      <th>0</th>\n",
              "      <td>1887</td>\n",
              "      <td>HOME</td>\n",
              "      <td>NOV</td>\n",
              "      <td>23</td>\n",
              "      <td>1887</td>\n",
              "      <td>NO COACH</td>\n",
              "      <td>L</td>\n",
              "      <td>0-8</td>\n",
              "      <td>No Poll</td>\n",
              "      <td>MICHIGAN</td>\n",
              "      <td>NO COACH</td>\n",
              "      <td>No Poll</td>\n",
              "    </tr>\n",
              "    <tr>\n",
              "      <th>1</th>\n",
              "      <td>1888</td>\n",
              "      <td>HOME</td>\n",
              "      <td>APR</td>\n",
              "      <td>20</td>\n",
              "      <td>1888</td>\n",
              "      <td>NO COACH</td>\n",
              "      <td>L</td>\n",
              "      <td>6-26</td>\n",
              "      <td>No Poll</td>\n",
              "      <td>MICHIGAN</td>\n",
              "      <td>NO COACH</td>\n",
              "      <td>No Poll</td>\n",
              "    </tr>\n",
              "    <tr>\n",
              "      <th>2</th>\n",
              "      <td>1888</td>\n",
              "      <td>HOME</td>\n",
              "      <td>APR</td>\n",
              "      <td>21</td>\n",
              "      <td>1888</td>\n",
              "      <td>NO COACH</td>\n",
              "      <td>L</td>\n",
              "      <td>4-10</td>\n",
              "      <td>No Poll</td>\n",
              "      <td>MICHIGAN</td>\n",
              "      <td>NO COACH</td>\n",
              "      <td>No Poll</td>\n",
              "    </tr>\n",
              "    <tr>\n",
              "      <th>3</th>\n",
              "      <td>1888</td>\n",
              "      <td>HOME</td>\n",
              "      <td>DEC</td>\n",
              "      <td>6</td>\n",
              "      <td>1888</td>\n",
              "      <td>NO COACH</td>\n",
              "      <td>W</td>\n",
              "      <td>20-0</td>\n",
              "      <td>No Poll</td>\n",
              "      <td>HARVARD PREP</td>\n",
              "      <td>UNKNOWN</td>\n",
              "      <td>No Poll</td>\n",
              "    </tr>\n",
              "    <tr>\n",
              "      <th>4</th>\n",
              "      <td>1889</td>\n",
              "      <td>AWAY</td>\n",
              "      <td>NOV</td>\n",
              "      <td>14</td>\n",
              "      <td>1889</td>\n",
              "      <td>NO COACH</td>\n",
              "      <td>W</td>\n",
              "      <td>9-0</td>\n",
              "      <td>No Poll</td>\n",
              "      <td>NORTHWESTERN</td>\n",
              "      <td>NO COACH</td>\n",
              "      <td>No Poll</td>\n",
              "    </tr>\n",
              "  </tbody>\n",
              "</table>\n",
              "</div>"
            ],
            "text/plain": [
              "   Season  Site Month  Day  ...  ND Rank      Opponent Opp. Coach Opp. Rank\n",
              "0    1887  HOME   NOV   23  ...  No Poll      MICHIGAN   NO COACH   No Poll\n",
              "1    1888  HOME   APR   20  ...  No Poll      MICHIGAN   NO COACH   No Poll\n",
              "2    1888  HOME   APR   21  ...  No Poll      MICHIGAN   NO COACH   No Poll\n",
              "3    1888  HOME   DEC    6  ...  No Poll  HARVARD PREP    UNKNOWN   No Poll\n",
              "4    1889  AWAY   NOV   14  ...  No Poll  NORTHWESTERN   NO COACH   No Poll\n",
              "\n",
              "[5 rows x 12 columns]"
            ]
          },
          "metadata": {},
          "execution_count": 217
        }
      ]
    },
    {
      "cell_type": "code",
      "metadata": {
        "id": "jrsHin3-27RU",
        "colab": {
          "base_uri": "https://localhost:8080/",
          "height": 419
        },
        "outputId": "9084e20d-0b65-44dc-c324-d1e18943ac46"
      },
      "source": [
        "nd_df = nd_df.drop(['Month', 'Day', 'Year', 'ND Coach', 'ND Rank', 'Opp. Coach', 'Opp. Rank'], axis=1)\n",
        "nd_df = nd_df.rename({'Season':'season', 'Site':'site','W/L/T':'result','Score':'score','Opponent':'opponent'}, axis = 1)\n",
        "nd_df"
      ],
      "execution_count": null,
      "outputs": [
        {
          "output_type": "execute_result",
          "data": {
            "text/html": [
              "<div>\n",
              "<style scoped>\n",
              "    .dataframe tbody tr th:only-of-type {\n",
              "        vertical-align: middle;\n",
              "    }\n",
              "\n",
              "    .dataframe tbody tr th {\n",
              "        vertical-align: top;\n",
              "    }\n",
              "\n",
              "    .dataframe thead th {\n",
              "        text-align: right;\n",
              "    }\n",
              "</style>\n",
              "<table border=\"1\" class=\"dataframe\">\n",
              "  <thead>\n",
              "    <tr style=\"text-align: right;\">\n",
              "      <th></th>\n",
              "      <th>season</th>\n",
              "      <th>site</th>\n",
              "      <th>result</th>\n",
              "      <th>score</th>\n",
              "      <th>opponent</th>\n",
              "    </tr>\n",
              "  </thead>\n",
              "  <tbody>\n",
              "    <tr>\n",
              "      <th>0</th>\n",
              "      <td>1887</td>\n",
              "      <td>HOME</td>\n",
              "      <td>L</td>\n",
              "      <td>0-8</td>\n",
              "      <td>MICHIGAN</td>\n",
              "    </tr>\n",
              "    <tr>\n",
              "      <th>1</th>\n",
              "      <td>1888</td>\n",
              "      <td>HOME</td>\n",
              "      <td>L</td>\n",
              "      <td>6-26</td>\n",
              "      <td>MICHIGAN</td>\n",
              "    </tr>\n",
              "    <tr>\n",
              "      <th>2</th>\n",
              "      <td>1888</td>\n",
              "      <td>HOME</td>\n",
              "      <td>L</td>\n",
              "      <td>4-10</td>\n",
              "      <td>MICHIGAN</td>\n",
              "    </tr>\n",
              "    <tr>\n",
              "      <th>3</th>\n",
              "      <td>1888</td>\n",
              "      <td>HOME</td>\n",
              "      <td>W</td>\n",
              "      <td>20-0</td>\n",
              "      <td>HARVARD PREP</td>\n",
              "    </tr>\n",
              "    <tr>\n",
              "      <th>4</th>\n",
              "      <td>1889</td>\n",
              "      <td>AWAY</td>\n",
              "      <td>W</td>\n",
              "      <td>9-0</td>\n",
              "      <td>NORTHWESTERN</td>\n",
              "    </tr>\n",
              "    <tr>\n",
              "      <th>...</th>\n",
              "      <td>...</td>\n",
              "      <td>...</td>\n",
              "      <td>...</td>\n",
              "      <td>...</td>\n",
              "      <td>...</td>\n",
              "    </tr>\n",
              "    <tr>\n",
              "      <th>1257</th>\n",
              "      <td>2016</td>\n",
              "      <td>HOME</td>\n",
              "      <td>L</td>\n",
              "      <td>31-34</td>\n",
              "      <td>VIRGINIA TECH</td>\n",
              "    </tr>\n",
              "    <tr>\n",
              "      <th>1258</th>\n",
              "      <td>2016</td>\n",
              "      <td>AWAY</td>\n",
              "      <td>L</td>\n",
              "      <td>27-45</td>\n",
              "      <td>SOUTHERN CAL</td>\n",
              "    </tr>\n",
              "    <tr>\n",
              "      <th>1259</th>\n",
              "      <td>2017</td>\n",
              "      <td>HOME</td>\n",
              "      <td>W</td>\n",
              "      <td>49-16</td>\n",
              "      <td>TEMPLE</td>\n",
              "    </tr>\n",
              "    <tr>\n",
              "      <th>1260</th>\n",
              "      <td>2017</td>\n",
              "      <td>HOME</td>\n",
              "      <td>L</td>\n",
              "      <td>19-20</td>\n",
              "      <td>GEORGIA</td>\n",
              "    </tr>\n",
              "    <tr>\n",
              "      <th>1261</th>\n",
              "      <td>2017</td>\n",
              "      <td>HOME</td>\n",
              "      <td>L</td>\n",
              "      <td>19-20</td>\n",
              "      <td>GEORGIA</td>\n",
              "    </tr>\n",
              "  </tbody>\n",
              "</table>\n",
              "<p>1262 rows × 5 columns</p>\n",
              "</div>"
            ],
            "text/plain": [
              "      season  site result  score       opponent\n",
              "0       1887  HOME      L    0-8       MICHIGAN\n",
              "1       1888  HOME      L   6-26       MICHIGAN\n",
              "2       1888  HOME      L   4-10       MICHIGAN\n",
              "3       1888  HOME      W   20-0   HARVARD PREP\n",
              "4       1889  AWAY      W    9-0   NORTHWESTERN\n",
              "...      ...   ...    ...    ...            ...\n",
              "1257    2016  HOME      L  31-34  VIRGINIA TECH\n",
              "1258    2016  AWAY      L  27-45   SOUTHERN CAL\n",
              "1259    2017  HOME      W  49-16         TEMPLE\n",
              "1260    2017  HOME      L  19-20        GEORGIA\n",
              "1261    2017  HOME      L  19-20        GEORGIA\n",
              "\n",
              "[1262 rows x 5 columns]"
            ]
          },
          "metadata": {},
          "execution_count": 218
        }
      ]
    },
    {
      "cell_type": "markdown",
      "metadata": {
        "id": "vQw8RwAp27RV"
      },
      "source": [
        "### 2. Use Boolean Indexing (Boolean Selection) to calculate ND's all-time winning percentage.  Store the result in the variable **all_time_win_pct**. \n",
        "* Using f strings, print: *\"Notre Dame Football's all time winning percentage is XX.X%.\"*\n",
        "\n",
        "\n",
        "\n",
        "$$\\text{all-time winning pct} = \\frac{\\text{ # of wins}}{\\text{# games played} - \\text{# of ties}}$$"
      ]
    },
    {
      "cell_type": "code",
      "metadata": {
        "id": "akhsvcC227RV"
      },
      "source": [
        "wins = nd_df[nd_df.result == \"W\"]\n",
        "ties = nd_df[nd_df.result == \"T\"]"
      ],
      "execution_count": null,
      "outputs": []
    },
    {
      "cell_type": "code",
      "metadata": {
        "id": "JYYeR4hs27RV",
        "colab": {
          "base_uri": "https://localhost:8080/",
          "height": 35
        },
        "outputId": "db52fcbd-5cbb-4d66-d264-e59ad3d85a99"
      },
      "source": [
        "all_time_win_pct = round(((len(wins))/(len(nd_df)-len(ties)))*100,1)\n",
        "\"Notre Dame Football's all time winning percentage is {}%.\".format(all_time_win_pct)"
      ],
      "execution_count": null,
      "outputs": [
        {
          "output_type": "execute_result",
          "data": {
            "application/vnd.google.colaboratory.intrinsic+json": {
              "type": "string"
            },
            "text/plain": [
              "\"Notre Dame Football's all time winning percentage is 73.5%.\""
            ]
          },
          "metadata": {},
          "execution_count": 224
        }
      ]
    },
    {
      "cell_type": "markdown",
      "metadata": {
        "id": "_KCX_Yo027RW"
      },
      "source": [
        "### 3. What is the Average Margin of Victory\n",
        "The formula for Avg Margin of Victory is as follows.\n",
        "\n",
        "avg_mov = (sum(nd_score) - sum(opp_score)) / num_wins\n",
        "\n",
        "Answer the following questions:\n",
        "\n",
        "1. For all of the games that Notre Dame won, what was the avg margin of victory?\n",
        "2. For games played in the 1999 season, what was the avg margin of victory?\n",
        "\n",
        "Note: This requires you to create two new columns `nd_score` and `opp_score`"
      ]
    },
    {
      "cell_type": "code",
      "metadata": {
        "id": "WtjNvknE27RX",
        "colab": {
          "base_uri": "https://localhost:8080/",
          "height": 419
        },
        "outputId": "21d358f0-a9e9-46d9-846a-349ef0a5f033"
      },
      "source": [
        "split_scores= nd_df[\"score\"].str.split(\"-\", n = 1, expand = True)\n",
        "nd_df['nd_score'] = split_scores[0].astype(int)\n",
        "nd_df['opp_score'] = split_scores[1].astype(int)\n",
        "nd_df"
      ],
      "execution_count": null,
      "outputs": [
        {
          "output_type": "execute_result",
          "data": {
            "text/html": [
              "<div>\n",
              "<style scoped>\n",
              "    .dataframe tbody tr th:only-of-type {\n",
              "        vertical-align: middle;\n",
              "    }\n",
              "\n",
              "    .dataframe tbody tr th {\n",
              "        vertical-align: top;\n",
              "    }\n",
              "\n",
              "    .dataframe thead th {\n",
              "        text-align: right;\n",
              "    }\n",
              "</style>\n",
              "<table border=\"1\" class=\"dataframe\">\n",
              "  <thead>\n",
              "    <tr style=\"text-align: right;\">\n",
              "      <th></th>\n",
              "      <th>season</th>\n",
              "      <th>site</th>\n",
              "      <th>result</th>\n",
              "      <th>score</th>\n",
              "      <th>opponent</th>\n",
              "      <th>nd_score</th>\n",
              "      <th>opp_score</th>\n",
              "    </tr>\n",
              "  </thead>\n",
              "  <tbody>\n",
              "    <tr>\n",
              "      <th>0</th>\n",
              "      <td>1887</td>\n",
              "      <td>HOME</td>\n",
              "      <td>L</td>\n",
              "      <td>0-8</td>\n",
              "      <td>MICHIGAN</td>\n",
              "      <td>0</td>\n",
              "      <td>8</td>\n",
              "    </tr>\n",
              "    <tr>\n",
              "      <th>1</th>\n",
              "      <td>1888</td>\n",
              "      <td>HOME</td>\n",
              "      <td>L</td>\n",
              "      <td>6-26</td>\n",
              "      <td>MICHIGAN</td>\n",
              "      <td>6</td>\n",
              "      <td>26</td>\n",
              "    </tr>\n",
              "    <tr>\n",
              "      <th>2</th>\n",
              "      <td>1888</td>\n",
              "      <td>HOME</td>\n",
              "      <td>L</td>\n",
              "      <td>4-10</td>\n",
              "      <td>MICHIGAN</td>\n",
              "      <td>4</td>\n",
              "      <td>10</td>\n",
              "    </tr>\n",
              "    <tr>\n",
              "      <th>3</th>\n",
              "      <td>1888</td>\n",
              "      <td>HOME</td>\n",
              "      <td>W</td>\n",
              "      <td>20-0</td>\n",
              "      <td>HARVARD PREP</td>\n",
              "      <td>20</td>\n",
              "      <td>0</td>\n",
              "    </tr>\n",
              "    <tr>\n",
              "      <th>4</th>\n",
              "      <td>1889</td>\n",
              "      <td>AWAY</td>\n",
              "      <td>W</td>\n",
              "      <td>9-0</td>\n",
              "      <td>NORTHWESTERN</td>\n",
              "      <td>9</td>\n",
              "      <td>0</td>\n",
              "    </tr>\n",
              "    <tr>\n",
              "      <th>...</th>\n",
              "      <td>...</td>\n",
              "      <td>...</td>\n",
              "      <td>...</td>\n",
              "      <td>...</td>\n",
              "      <td>...</td>\n",
              "      <td>...</td>\n",
              "      <td>...</td>\n",
              "    </tr>\n",
              "    <tr>\n",
              "      <th>1257</th>\n",
              "      <td>2016</td>\n",
              "      <td>HOME</td>\n",
              "      <td>L</td>\n",
              "      <td>31-34</td>\n",
              "      <td>VIRGINIA TECH</td>\n",
              "      <td>31</td>\n",
              "      <td>34</td>\n",
              "    </tr>\n",
              "    <tr>\n",
              "      <th>1258</th>\n",
              "      <td>2016</td>\n",
              "      <td>AWAY</td>\n",
              "      <td>L</td>\n",
              "      <td>27-45</td>\n",
              "      <td>SOUTHERN CAL</td>\n",
              "      <td>27</td>\n",
              "      <td>45</td>\n",
              "    </tr>\n",
              "    <tr>\n",
              "      <th>1259</th>\n",
              "      <td>2017</td>\n",
              "      <td>HOME</td>\n",
              "      <td>W</td>\n",
              "      <td>49-16</td>\n",
              "      <td>TEMPLE</td>\n",
              "      <td>49</td>\n",
              "      <td>16</td>\n",
              "    </tr>\n",
              "    <tr>\n",
              "      <th>1260</th>\n",
              "      <td>2017</td>\n",
              "      <td>HOME</td>\n",
              "      <td>L</td>\n",
              "      <td>19-20</td>\n",
              "      <td>GEORGIA</td>\n",
              "      <td>19</td>\n",
              "      <td>20</td>\n",
              "    </tr>\n",
              "    <tr>\n",
              "      <th>1261</th>\n",
              "      <td>2017</td>\n",
              "      <td>HOME</td>\n",
              "      <td>L</td>\n",
              "      <td>19-20</td>\n",
              "      <td>GEORGIA</td>\n",
              "      <td>19</td>\n",
              "      <td>20</td>\n",
              "    </tr>\n",
              "  </tbody>\n",
              "</table>\n",
              "<p>1262 rows × 7 columns</p>\n",
              "</div>"
            ],
            "text/plain": [
              "      season  site result  score       opponent  nd_score  opp_score\n",
              "0       1887  HOME      L    0-8       MICHIGAN         0          8\n",
              "1       1888  HOME      L   6-26       MICHIGAN         6         26\n",
              "2       1888  HOME      L   4-10       MICHIGAN         4         10\n",
              "3       1888  HOME      W   20-0   HARVARD PREP        20          0\n",
              "4       1889  AWAY      W    9-0   NORTHWESTERN         9          0\n",
              "...      ...   ...    ...    ...            ...       ...        ...\n",
              "1257    2016  HOME      L  31-34  VIRGINIA TECH        31         34\n",
              "1258    2016  AWAY      L  27-45   SOUTHERN CAL        27         45\n",
              "1259    2017  HOME      W  49-16         TEMPLE        49         16\n",
              "1260    2017  HOME      L  19-20        GEORGIA        19         20\n",
              "1261    2017  HOME      L  19-20        GEORGIA        19         20\n",
              "\n",
              "[1262 rows x 7 columns]"
            ]
          },
          "metadata": {},
          "execution_count": 221
        }
      ]
    },
    {
      "cell_type": "code",
      "metadata": {
        "id": "esjK8OzT27RX",
        "colab": {
          "base_uri": "https://localhost:8080/"
        },
        "outputId": "f216cf56-d5db-4124-981d-07a848a84b27"
      },
      "source": [
        "nd_score_sum = nd_df['nd_score'].sum()\n",
        "opp_score_sum = nd_df['opp_score'].sum()\n",
        "avg_mov = ((nd_score_sum-opp_score_sum)/len(wins)).round(2)\n",
        "print(\"Notre Dame Football's all time average margin of victory is {} points.\".format(avg_mov))"
      ],
      "execution_count": null,
      "outputs": [
        {
          "output_type": "stream",
          "name": "stdout",
          "text": [
            "Notre Dame Football's all time average margin of victory is 18.2 points.\n"
          ]
        }
      ]
    },
    {
      "cell_type": "code",
      "metadata": {
        "id": "BZvEJf9827RX",
        "colab": {
          "base_uri": "https://localhost:8080/"
        },
        "outputId": "72f32c9e-d985-44e0-9ab7-989ae39608c9"
      },
      "source": [
        "ninety_nine_season = nd_df[nd_df.season == 1999]\n",
        "ninety_nine_wins = ninety_nine_season[ninety_nine_season.result == \"W\"]\n",
        "ninety_nine_nd_score = ninety_nine_season['nd_score'].sum()\n",
        "ninety_nine_opp_score = ninety_nine_season['opp_score'].sum()\n",
        "ninety_nine_avg_mov = ((ninety_nine_nd_score-ninety_nine_opp_score)/len(ninety_nine_wins)).round(2)\n",
        "print(\"Notre Dame Football's 1999 average margin of victory was {} points.\".format(ninety_nine_avg_mov))"
      ],
      "execution_count": null,
      "outputs": [
        {
          "output_type": "stream",
          "name": "stdout",
          "text": [
            "Notre Dame Football's 1999 average margin of victory was 3.4 points.\n"
          ]
        }
      ]
    },
    {
      "cell_type": "markdown",
      "metadata": {
        "id": "54GfvZDA27RY"
      },
      "source": [
        "### 4. Create Plots for the following:\n",
        "\n",
        "1. Histogram of the nd_score using 100 bins\n",
        "2. Boxplot for the nd_score and opp_score on the same chart\n",
        "3. Plot the top 10 teams by the number of games played"
      ]
    },
    {
      "cell_type": "code",
      "metadata": {
        "id": "_-5_u93q27RY",
        "colab": {
          "base_uri": "https://localhost:8080/",
          "height": 531
        },
        "outputId": "82952536-4722-4318-c0b5-c06170c07bea"
      },
      "source": [
        "plt.figure(figsize=(15,8))\n",
        "plt.hist(nd_df['nd_score'],bins=100)\n",
        "plt.title(\"Notre Dame Scores\")\n",
        "plt.ylabel(\"Frequency\")\n",
        "plt.xlabel(\"Scores\")"
      ],
      "execution_count": null,
      "outputs": [
        {
          "output_type": "execute_result",
          "data": {
            "text/plain": [
              "Text(0.5, 0, 'Scores')"
            ]
          },
          "metadata": {},
          "execution_count": 227
        },
        {
          "output_type": "display_data",
          "data": {
            "image/png": "[encoded data removed]",
            "text/plain": [
              "<Figure size 1080x576 with 1 Axes>"
            ]
          },
          "metadata": {
            "needs_background": "light"
          }
        }
      ]
    },
    {
      "cell_type": "code",
      "metadata": {
        "id": "hLb5mueG27RY",
        "colab": {
          "base_uri": "https://localhost:8080/",
          "height": 531
        },
        "outputId": "0d17dfbe-f4bc-4105-d849-156c4abddc01"
      },
      "source": [
        "scores = [nd_df['nd_score'],nd_df['opp_score']]\n",
        "plt.figure(figsize=(15,8))\n",
        "plt.boxplot(scores, vert=False)\n",
        "plt.title(\"Notre Dame Score vs Opponent Score\")\n",
        "plt.xlabel(\"Scores\")\n",
        "plt.ylabel(\"Notre Dame vs. Opponents\")"
      ],
      "execution_count": null,
      "outputs": [
        {
          "output_type": "execute_result",
          "data": {
            "text/plain": [
              "Text(0, 0.5, 'Notre Dame vs. Opponents')"
            ]
          },
          "metadata": {},
          "execution_count": 213
        },
        {
          "output_type": "display_data",
          "data": {
            "image/png": "[encoded data removed]",
            "text/plain": [
              "<Figure size 1080x576 with 1 Axes>"
            ]
          },
          "metadata": {
            "needs_background": "light"
          }
        }
      ]
    },
    {
      "cell_type": "code",
      "metadata": {
        "id": "QSN8GNvj27RY",
        "colab": {
          "base_uri": "https://localhost:8080/",
          "height": 604
        },
        "outputId": "0b92d230-bdfd-4857-c10c-567987f4ceaa"
      },
      "source": [
        "top_ten = nd_df['opponent'].value_counts()[:10]\n",
        "plt.figure(figsize=(15,8))\n",
        "top_ten.plot.bar()\n",
        "plt.title(\"Notre Dame's Top 10 Played Teams\")\n",
        "plt.ylabel(\"Frequency\")\n",
        "plt.xlabel(\"Teams\")\n",
        "plt.xticks(rotation=45)"
      ],
      "execution_count": null,
      "outputs": [
        {
          "output_type": "execute_result",
          "data": {
            "text/plain": [
              "(array([0, 1, 2, 3, 4, 5, 6, 7, 8, 9]),\n",
              " <a list of 10 Text major ticklabel objects>)"
            ]
          },
          "metadata": {},
          "execution_count": 192
        },
        {
          "output_type": "display_data",
          "data": {
            "image/png": "[encoded data removed]",
            "text/plain": [
              "<Figure size 1080x576 with 1 Axes>"
            ]
          },
          "metadata": {
            "needs_background": "light"
          }
        }
      ]
    }
  ]
}