{
  "nbformat": 4,
  "nbformat_minor": 0,
  "metadata": {
    "colab": {
      "provenance": [],
      "collapsed_sections": [],
      "authorship_tag": "ABX9TyNSeAjK+zuSCyGDxnAWpFvK",
      "include_colab_link": true
    },
    "kernelspec": {
      "name": "python3",
      "display_name": "Python 3"
    },
    "language_info": {
      "name": "python"
    }
  },
  "cells": [
    {
      "cell_type": "markdown",
      "metadata": {
        "id": "view-in-github",
        "colab_type": "text"
      },
      "source": [
        "<a href=\"https://colab.research.google.com/github/sdiaz8/sdiaz8/blob/main/Financial%20Daily%20Returns%2C%20QQ%20plots%2C%20Correlation%20Coefficient.ipynb\" target=\"_parent\"><img src=\"https://colab.research.google.com/assets/colab-badge.svg\" alt=\"Open In Colab\"/></a>"
      ]
    },
    {
      "cell_type": "markdown",
      "source": [
        "#Assignment-1"
      ],
      "metadata": {
        "id": "dtOMNccLJa12"
      }
    },
    {
      "cell_type": "markdown",
      "source": [
        "For this assignment, we will focus on Apple and Microsoft stock prices data from the S&P-500, a stock market index tracking the performance of 500 large companies listed on stock exchanges in the United States. You'll analyze these stock prices. These companies are listed under the stock ticker `aapl` and `msft`.\""
      ],
      "metadata": {
        "id": "dgpL5SSm28Lc"
      }
    },
    {
      "cell_type": "markdown",
      "source": [
        "1. Collect daily closing price stock price of Apple and Microsoft covering the period of 2020-01-01 - 2021-01-01 (keep in mind that the date format is YYYY-MM-DD). (15 pts)"
      ],
      "metadata": {
        "id": "zSOyC8QspQYi"
      }
    },
    {
      "cell_type": "code",
      "source": [
        "#Resource https://algotrading101.com/learn/yahoo-finance-api-guide/\n",
        "import pandas as pd\n",
        "!pip install yahoo_fin --upgrade\n",
        "from yahoo_fin.stock_info import get_data"
      ],
      "metadata": {
        "colab": {
          "base_uri": "https://localhost:8080/"
        },
        "id": "fXsnX3h9hlg2",
        "outputId": "7998daec-dd8f-42bb-fc8b-9f8d4e0168f4"
      },
      "execution_count": null,
      "outputs": [
        {
          "output_type": "stream",
          "name": "stdout",
          "text": [
            "Looking in indexes: https://pypi.org/simple, https://us-python.pkg.dev/colab-wheels/public/simple/\n",
            "Requirement already satisfied: yahoo_fin in /usr/local/lib/python3.7/dist-packages (0.8.9.1)\n",
            "Requirement already satisfied: requests-html in /usr/local/lib/python3.7/dist-packages (from yahoo_fin) (0.10.0)\n",
            "Requirement already satisfied: pandas in /usr/local/lib/python3.7/dist-packages (from yahoo_fin) (1.3.5)\n",
            "Requirement already satisfied: requests in /usr/local/lib/python3.7/dist-packages (from yahoo_fin) (2.23.0)\n",
            "Requirement already satisfied: feedparser in /usr/local/lib/python3.7/dist-packages (from yahoo_fin) (6.0.10)\n",
            "Requirement already satisfied: sgmllib3k in /usr/local/lib/python3.7/dist-packages (from feedparser->yahoo_fin) (1.0.0)\n",
            "Requirement already satisfied: numpy>=1.17.3 in /usr/local/lib/python3.7/dist-packages (from pandas->yahoo_fin) (1.21.6)\n",
            "Requirement already satisfied: python-dateutil>=2.7.3 in /usr/local/lib/python3.7/dist-packages (from pandas->yahoo_fin) (2.8.2)\n",
            "Requirement already satisfied: pytz>=2017.3 in /usr/local/lib/python3.7/dist-packages (from pandas->yahoo_fin) (2022.2.1)\n",
            "Requirement already satisfied: six>=1.5 in /usr/local/lib/python3.7/dist-packages (from python-dateutil>=2.7.3->pandas->yahoo_fin) (1.15.0)\n",
            "Requirement already satisfied: chardet<4,>=3.0.2 in /usr/local/lib/python3.7/dist-packages (from requests->yahoo_fin) (3.0.4)\n",
            "Requirement already satisfied: urllib3!=1.25.0,!=1.25.1,<1.26,>=1.21.1 in /usr/local/lib/python3.7/dist-packages (from requests->yahoo_fin) (1.25.11)\n",
            "Requirement already satisfied: idna<3,>=2.5 in /usr/local/lib/python3.7/dist-packages (from requests->yahoo_fin) (2.10)\n",
            "Requirement already satisfied: certifi>=2017.4.17 in /usr/local/lib/python3.7/dist-packages (from requests->yahoo_fin) (2022.6.15)\n",
            "Requirement already satisfied: parse in /usr/local/lib/python3.7/dist-packages (from requests-html->yahoo_fin) (1.19.0)\n",
            "Requirement already satisfied: fake-useragent in /usr/local/lib/python3.7/dist-packages (from requests-html->yahoo_fin) (0.1.11)\n",
            "Requirement already satisfied: bs4 in /usr/local/lib/python3.7/dist-packages (from requests-html->yahoo_fin) (0.0.1)\n",
            "Requirement already satisfied: w3lib in /usr/local/lib/python3.7/dist-packages (from requests-html->yahoo_fin) (2.0.1)\n",
            "Requirement already satisfied: pyquery in /usr/local/lib/python3.7/dist-packages (from requests-html->yahoo_fin) (1.4.3)\n",
            "Requirement already satisfied: pyppeteer>=0.0.14 in /usr/local/lib/python3.7/dist-packages (from requests-html->yahoo_fin) (1.0.2)\n",
            "Requirement already satisfied: appdirs<2.0.0,>=1.4.3 in /usr/local/lib/python3.7/dist-packages (from pyppeteer>=0.0.14->requests-html->yahoo_fin) (1.4.4)\n",
            "Requirement already satisfied: tqdm<5.0.0,>=4.42.1 in /usr/local/lib/python3.7/dist-packages (from pyppeteer>=0.0.14->requests-html->yahoo_fin) (4.64.1)\n",
            "Requirement already satisfied: websockets<11.0,>=10.0 in /usr/local/lib/python3.7/dist-packages (from pyppeteer>=0.0.14->requests-html->yahoo_fin) (10.3)\n",
            "Requirement already satisfied: pyee<9.0.0,>=8.1.0 in /usr/local/lib/python3.7/dist-packages (from pyppeteer>=0.0.14->requests-html->yahoo_fin) (8.2.2)\n",
            "Requirement already satisfied: importlib-metadata>=1.4 in /usr/local/lib/python3.7/dist-packages (from pyppeteer>=0.0.14->requests-html->yahoo_fin) (4.12.0)\n",
            "Requirement already satisfied: typing-extensions>=3.6.4 in /usr/local/lib/python3.7/dist-packages (from importlib-metadata>=1.4->pyppeteer>=0.0.14->requests-html->yahoo_fin) (4.1.1)\n",
            "Requirement already satisfied: zipp>=0.5 in /usr/local/lib/python3.7/dist-packages (from importlib-metadata>=1.4->pyppeteer>=0.0.14->requests-html->yahoo_fin) (3.8.1)\n",
            "Requirement already satisfied: beautifulsoup4 in /usr/local/lib/python3.7/dist-packages (from bs4->requests-html->yahoo_fin) (4.6.3)\n",
            "Requirement already satisfied: lxml>=2.1 in /usr/local/lib/python3.7/dist-packages (from pyquery->requests-html->yahoo_fin) (4.9.1)\n",
            "Requirement already satisfied: cssselect>0.7.9 in /usr/local/lib/python3.7/dist-packages (from pyquery->requests-html->yahoo_fin) (1.1.0)\n"
          ]
        }
      ]
    },
    {
      "cell_type": "code",
      "source": [
        "#Daily Closing Price for Apple in 2020\n",
        "aapl_daily= get_data(\"aapl\", start_date=\"01/01/2020\", end_date=\"01/01/2021\", index_as_date = True, interval=\"1d\")\n",
        "aapl_daily\n",
        "aapl_daily['close']"
      ],
      "metadata": {
        "colab": {
          "base_uri": "https://localhost:8080/"
        },
        "id": "ajy-zVYCh2VD",
        "outputId": "66cce8ad-d893-4371-a78c-39645f8e2cf8"
      },
      "execution_count": null,
      "outputs": [
        {
          "output_type": "execute_result",
          "data": {
            "text/plain": [
              "2020-01-02     75.087502\n",
              "2020-01-03     74.357498\n",
              "2020-01-06     74.949997\n",
              "2020-01-07     74.597504\n",
              "2020-01-08     75.797501\n",
              "                 ...    \n",
              "2020-12-24    131.970001\n",
              "2020-12-28    136.690002\n",
              "2020-12-29    134.869995\n",
              "2020-12-30    133.720001\n",
              "2020-12-31    132.690002\n",
              "Name: close, Length: 253, dtype: float64"
            ]
          },
          "metadata": {},
          "execution_count": 128
        }
      ]
    },
    {
      "cell_type": "code",
      "source": [
        "#Daily Closing Price for Microsoft in 2020\n",
        "msft_daily= get_data(\"msft\", start_date=\"01/01/2020\", end_date=\"01/01/2021\", index_as_date = True, interval=\"1d\")\n",
        "msft_daily\n",
        "msft_daily['close']"
      ],
      "metadata": {
        "colab": {
          "base_uri": "https://localhost:8080/"
        },
        "id": "L-FXl5N7seQj",
        "outputId": "ff0df1ff-116b-4b8c-f4cb-779b6f6e4298"
      },
      "execution_count": null,
      "outputs": [
        {
          "output_type": "execute_result",
          "data": {
            "text/plain": [
              "2020-01-02    160.619995\n",
              "2020-01-03    158.619995\n",
              "2020-01-06    159.029999\n",
              "2020-01-07    157.580002\n",
              "2020-01-08    160.089996\n",
              "                 ...    \n",
              "2020-12-24    222.750000\n",
              "2020-12-28    224.960007\n",
              "2020-12-29    224.149994\n",
              "2020-12-30    221.679993\n",
              "2020-12-31    222.419998\n",
              "Name: close, Length: 253, dtype: float64"
            ]
          },
          "metadata": {},
          "execution_count": 129
        }
      ]
    },
    {
      "cell_type": "markdown",
      "source": [
        "2. Draw the line plot for the stock prices and interpret the stock price movement, if there is any. (15 pts)"
      ],
      "metadata": {
        "id": "i1GZ9QtSpaFg"
      }
    },
    {
      "cell_type": "code",
      "source": [
        "#Line Graph of Closing Prices for Apple and Microsoft in 2020\n",
        "import matplotlib.pyplot as plt\n",
        "import numpy as np\n",
        "plt.plot(aapl_daily['close'])\n",
        "plt.plot(msft_daily['close'])\n",
        "plt.xlabel(\"Date\")\n",
        "plt.ylabel(\"Closing Price\")\n",
        "plt.title(\"Closing Price of Microsoft and Apple in 2020\")"
      ],
      "metadata": {
        "colab": {
          "base_uri": "https://localhost:8080/",
          "height": 312
        },
        "id": "am81fFSTpdEw",
        "outputId": "f37b62af-7486-4eb9-e644-1656d6e05cb8"
      },
      "execution_count": null,
      "outputs": [
        {
          "output_type": "execute_result",
          "data": {
            "text/plain": [
              "Text(0.5, 1.0, 'Closing Price of Microsoft and Apple in 2020')"
            ]
          },
          "metadata": {},
          "execution_count": 130
        },
        {
          "output_type": "display_data",
          "data": {
            "text/plain": [
              "<Figure size 432x288 with 1 Axes>"
            ],
            "image/png": "[encoded data removed]"
          },
          "metadata": {
            "needs_background": "light"
          }
        }
      ]
    },
    {
      "cell_type": "markdown",
      "source": [
        "The closing prices of both Microsoft and Apple hit their all time low  at the beginning of the COVID-19 pandemic (March 2020).  After that, the closing prices have been on a steady recovery, besting the price of January 2020 and reaching its all time high at the beginning of September 2020. "
      ],
      "metadata": {
        "id": "vsCgnrW9rFS5"
      }
    },
    {
      "cell_type": "markdown",
      "source": [
        "3. Calculate stock return of Apple and Microsoft in this period. (15 pts)"
      ],
      "metadata": {
        "id": "I1UfHo1ZpdZ_"
      }
    },
    {
      "cell_type": "code",
      "source": [
        "#Resource Main_Financial_Concepts.ipynb\n",
        "#Daily stock return for Apple\n",
        "aapl_daily['return'] = np.log(aapl_daily['close']) - np.log(aapl_daily['close'].shift(1))\n",
        "aapl_daily['return']"
      ],
      "metadata": {
        "colab": {
          "base_uri": "https://localhost:8080/"
        },
        "id": "GH4TrKgYyYTV",
        "outputId": "caefb03e-8660-4ce4-d698-ac5d4c6915ee"
      },
      "execution_count": null,
      "outputs": [
        {
          "output_type": "execute_result",
          "data": {
            "text/plain": [
              "2020-01-02         NaN\n",
              "2020-01-03   -0.009770\n",
              "2020-01-06    0.007937\n",
              "2020-01-07   -0.004714\n",
              "2020-01-08    0.015958\n",
              "                ...   \n",
              "2020-12-24    0.007683\n",
              "2020-12-28    0.035141\n",
              "2020-12-29   -0.013404\n",
              "2020-12-30   -0.008563\n",
              "2020-12-31   -0.007732\n",
              "Name: return, Length: 253, dtype: float64"
            ]
          },
          "metadata": {},
          "execution_count": 131
        }
      ]
    },
    {
      "cell_type": "code",
      "source": [
        "#Daily stock return for Microsoft\n",
        "msft_daily ['return'] = np.log(msft_daily['close']) - np.log(msft_daily['close'].shift(1))\n",
        "msft_daily ['return']"
      ],
      "metadata": {
        "id": "b22Dox7opgqK",
        "colab": {
          "base_uri": "https://localhost:8080/"
        },
        "outputId": "50e72c89-073f-4e4b-96d4-907e9fd1a953"
      },
      "execution_count": null,
      "outputs": [
        {
          "output_type": "execute_result",
          "data": {
            "text/plain": [
              "2020-01-02         NaN\n",
              "2020-01-03   -0.012530\n",
              "2020-01-06    0.002581\n",
              "2020-01-07   -0.009160\n",
              "2020-01-08    0.015803\n",
              "                ...   \n",
              "2020-12-24    0.007797\n",
              "2020-12-28    0.009873\n",
              "2020-12-29   -0.003607\n",
              "2020-12-30   -0.011081\n",
              "2020-12-31    0.003333\n",
              "Name: return, Length: 253, dtype: float64"
            ]
          },
          "metadata": {},
          "execution_count": 132
        }
      ]
    },
    {
      "cell_type": "markdown",
      "source": [
        "4. What is the largest return of these companies during this period? (15 pts)"
      ],
      "metadata": {
        "id": "E8i2xPYophEj"
      }
    },
    {
      "cell_type": "code",
      "source": [
        "#Largest return for Apple in 2020\n",
        "aapl_daily['return'].max()"
      ],
      "metadata": {
        "colab": {
          "base_uri": "https://localhost:8080/"
        },
        "id": "BOXZHCQwyaT2",
        "outputId": "b4f10761-7a95-4c73-9f54-bc5dadfa0b53"
      },
      "execution_count": null,
      "outputs": [
        {
          "output_type": "execute_result",
          "data": {
            "text/plain": [
              "0.11315748006946968"
            ]
          },
          "metadata": {},
          "execution_count": 133
        }
      ]
    },
    {
      "cell_type": "code",
      "source": [
        "#Largest return for Microsoft in 2020\n",
        "msft_daily ['return'].max()"
      ],
      "metadata": {
        "id": "63eQrIRrpmSy",
        "colab": {
          "base_uri": "https://localhost:8080/"
        },
        "outputId": "b1b3efb0-d4f8-4ca7-f8bc-97888082c97c"
      },
      "execution_count": null,
      "outputs": [
        {
          "output_type": "execute_result",
          "data": {
            "text/plain": [
              "0.13292898226108107"
            ]
          },
          "metadata": {},
          "execution_count": 134
        }
      ]
    },
    {
      "cell_type": "markdown",
      "source": [
        "5. Draw the histogram of the returns and interpret the distributions you obtained. (15 pts)"
      ],
      "metadata": {
        "id": "ghF91Iq6pmjm"
      }
    },
    {
      "cell_type": "code",
      "source": [
        "#Resource Main_Financial_Concepts.ipynb\n",
        "#Histogram for Apple Returns in 2020\n",
        "aapl_daily['return'].plot.hist(bins=60)\n",
        "plt.xlabel(\"Returns\")\n",
        "plt.title(\"Return Data for Apple (2020)\")"
      ],
      "metadata": {
        "id": "yzuGHb4lpqHv",
        "colab": {
          "base_uri": "https://localhost:8080/",
          "height": 312
        },
        "outputId": "ecaabcde-c706-436f-faf5-ec3757f9cd7a"
      },
      "execution_count": null,
      "outputs": [
        {
          "output_type": "execute_result",
          "data": {
            "text/plain": [
              "Text(0.5, 1.0, 'Return Data for Apple (2020)')"
            ]
          },
          "metadata": {},
          "execution_count": 137
        },
        {
          "output_type": "display_data",
          "data": {
            "text/plain": [
              "<Figure size 432x288 with 1 Axes>"
            ],
            "image/png": "[encoded data removed]"
          },
          "metadata": {
            "needs_background": "light"
          }
        }
      ]
    },
    {
      "cell_type": "code",
      "source": [
        "#Histogram for Microsoft Returns in 2020\n",
        "msft_daily ['return'].plot.hist(bins=60)\n",
        "plt.xlabel(\"Returns\")\n",
        "plt.title(\"Return Data for Microsoft (2020)\")"
      ],
      "metadata": {
        "colab": {
          "base_uri": "https://localhost:8080/",
          "height": 312
        },
        "id": "0_qtWyB717Vo",
        "outputId": "f25f8f20-0bde-48cd-e433-70aabcd4ab75"
      },
      "execution_count": null,
      "outputs": [
        {
          "output_type": "execute_result",
          "data": {
            "text/plain": [
              "Text(0.5, 1.0, 'Return Data for Microsoft (2020)')"
            ]
          },
          "metadata": {},
          "execution_count": 138
        },
        {
          "output_type": "display_data",
          "data": {
            "text/plain": [
              "<Figure size 432x288 with 1 Axes>"
            ],
            "image/png": "[encoded data removed]"
          },
          "metadata": {
            "needs_background": "light"
          }
        }
      ]
    },
    {
      "cell_type": "markdown",
      "source": [
        "Looking at the histograms, a majority of the data points are focused in the middle of the graph (0% return).  Both companies have had more positive stock returns than negative in 2020.  "
      ],
      "metadata": {
        "id": "8g63HtrE75Lf"
      }
    },
    {
      "cell_type": "markdown",
      "source": [
        "6. Use QQ plot and see if the stock returns follow normal distribution. (15 pts)"
      ],
      "metadata": {
        "id": "Pc4Mn4u6pqnS"
      }
    },
    {
      "cell_type": "code",
      "source": [
        "#Resource https://www.statology.org/q-q-plot-python/\n",
        "#QQ plot for Apple Returns\n",
        "import statsmodels.api as sm\n",
        "import pylab as py\n",
        "sm.qqplot(aapl_daily['return'], line='45')"
      ],
      "metadata": {
        "id": "E1s1v2dspuK-",
        "colab": {
          "base_uri": "https://localhost:8080/",
          "height": 541
        },
        "outputId": "bc99651a-2e7e-493b-b0e6-36045cb50cb2"
      },
      "execution_count": null,
      "outputs": [
        {
          "output_type": "execute_result",
          "data": {
            "text/plain": [
              "<Figure size 432x288 with 1 Axes>"
            ],
            "image/png": "[encoded data removed]"
          },
          "metadata": {},
          "execution_count": 139
        },
        {
          "output_type": "display_data",
          "data": {
            "text/plain": [
              "<Figure size 432x288 with 1 Axes>"
            ],
            "image/png": "[encoded data removed]"
          },
          "metadata": {
            "needs_background": "light"
          }
        }
      ]
    },
    {
      "cell_type": "code",
      "source": [
        "#QQ plot for Microsoft Returns\n",
        "sm.qqplot(msft_daily ['return'], line='45')\n",
        "plt.show()"
      ],
      "metadata": {
        "colab": {
          "base_uri": "https://localhost:8080/",
          "height": 279
        },
        "id": "kKGoQxpe_rCu",
        "outputId": "65e6ae90-e1ed-4f03-dc93-b9dbc159fcd3"
      },
      "execution_count": null,
      "outputs": [
        {
          "output_type": "display_data",
          "data": {
            "text/plain": [
              "<Figure size 432x288 with 1 Axes>"
            ],
            "image/png": "[encoded data removed]"
          },
          "metadata": {
            "needs_background": "light"
          }
        }
      ]
    },
    {
      "cell_type": "markdown",
      "source": [
        "According to the QQ plots above, the return data for Apple and Microsoft is not normally distributed."
      ],
      "metadata": {
        "id": "Vv0K7i6NB8xu"
      }
    },
    {
      "cell_type": "markdown",
      "source": [
        "7. Calculate the correlation coefficient between these stock returns and interpret. (10 pts)"
      ],
      "metadata": {
        "id": "FZ9mkJU9pujO"
      }
    },
    {
      "cell_type": "code",
      "source": [
        "#Resource https://www.geeksforgeeks.org/how-to-calculate-correlation-between-two-columns-in-pandas/\n",
        "aapl_daily['return'].corr(msft_daily ['return'])"
      ],
      "metadata": {
        "id": "PGZxQgSUpyeL",
        "colab": {
          "base_uri": "https://localhost:8080/"
        },
        "outputId": "481a7c6f-7dc6-496f-d2d8-f85e32d69f3b"
      },
      "execution_count": null,
      "outputs": [
        {
          "output_type": "execute_result",
          "data": {
            "text/plain": [
              "0.8435492297755272"
            ]
          },
          "metadata": {},
          "execution_count": 141
        }
      ]
    },
    {
      "cell_type": "markdown",
      "source": [
        "The correlation coefficient of .84 means there is a strong positive relationship between the 2020 stock returns of Apple and Microsoft."
      ],
      "metadata": {
        "id": "49ngP1cOIyGh"
      }
    }
  ]
}