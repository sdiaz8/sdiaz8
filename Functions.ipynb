{
  "nbformat": 4,
  "nbformat_minor": 0,
  "metadata": {
    "colab": {
      "name": "Diaz_Stefan_Assignment2.ipynb",
      "provenance": [],
      "collapsed_sections": [],
      "authorship_tag": "ABX9TyMVppKO440iQkQ0wJrZl/LL",
      "include_colab_link": true
    },
    "kernelspec": {
      "name": "python3",
      "display_name": "Python 3"
    },
    "language_info": {
      "name": "python"
    }
  },
  "cells": [
    {
      "cell_type": "markdown",
      "metadata": {
        "id": "view-in-github",
        "colab_type": "text"
      },
      "source": [
        "<a href=\"https://colab.research.google.com/github/sdiaz8/sdiaz8/blob/main/Functions.ipynb\" target=\"_parent\"><img src=\"https://colab.research.google.com/assets/colab-badge.svg\" alt=\"Open In Colab\"/></a>"
      ]
    },
    {
      "cell_type": "markdown",
      "metadata": {
        "id": "qHjABBfQfVRa"
      },
      "source": [
        "\n",
        "\\#Question 1"
      ]
    },
    {
      "cell_type": "code",
      "metadata": {
        "id": "3rPB6l7KfZGu"
      },
      "source": [
        "def lesser_of_two_evens(a,b):\n",
        "  if a % 2 == 0 and b % 2 == 0:\n",
        "    if a < b:\n",
        "      print(a)\n",
        "    else:\n",
        "      print(b)\n",
        "  else:\n",
        "    if a > b:\n",
        "      print(a)\n",
        "    else:\n",
        "      print(b)"
      ],
      "execution_count": null,
      "outputs": []
    },
    {
      "cell_type": "code",
      "metadata": {
        "colab": {
          "base_uri": "https://localhost:8080/"
        },
        "id": "w4-sNRWFn_1R",
        "outputId": "c4fbd679-a8f2-47de-afea-7cd4b49e99a9"
      },
      "source": [
        "lesser_of_two_evens(2,4)"
      ],
      "execution_count": null,
      "outputs": [
        {
          "output_type": "stream",
          "name": "stdout",
          "text": [
            "2\n"
          ]
        }
      ]
    },
    {
      "cell_type": "code",
      "metadata": {
        "colab": {
          "base_uri": "https://localhost:8080/"
        },
        "id": "9DyYaEV3gRYo",
        "outputId": "7dfd9434-9b7c-49cb-da1a-50a4de747e4b"
      },
      "source": [
        "lesser_of_two_evens(2,5)"
      ],
      "execution_count": null,
      "outputs": [
        {
          "output_type": "stream",
          "name": "stdout",
          "text": [
            "5\n"
          ]
        }
      ]
    },
    {
      "cell_type": "markdown",
      "metadata": {
        "id": "07U9fLIwoIa-"
      },
      "source": [
        "#Question 2"
      ]
    },
    {
      "cell_type": "code",
      "metadata": {
        "id": "l-bzUr0OoKjr"
      },
      "source": [
        "def makes_twenty(a,b):\n",
        "  if a + b == 20 or a == 20 or b ==20:\n",
        "    print(True)\n",
        "  else:\n",
        "    print(False)"
      ],
      "execution_count": null,
      "outputs": []
    },
    {
      "cell_type": "code",
      "metadata": {
        "colab": {
          "base_uri": "https://localhost:8080/"
        },
        "id": "fDVD2vJ8oh6m",
        "outputId": "379c3599-fea2-45c8-da9b-4245bb73c58f"
      },
      "source": [
        "makes_twenty(20,10)"
      ],
      "execution_count": null,
      "outputs": [
        {
          "output_type": "stream",
          "name": "stdout",
          "text": [
            "True\n"
          ]
        }
      ]
    },
    {
      "cell_type": "code",
      "metadata": {
        "colab": {
          "base_uri": "https://localhost:8080/"
        },
        "id": "EimP22MOouG6",
        "outputId": "bd9d503c-3141-41ac-bfea-254718adb1b9"
      },
      "source": [
        "makes_twenty(12,8)"
      ],
      "execution_count": null,
      "outputs": [
        {
          "output_type": "stream",
          "name": "stdout",
          "text": [
            "True\n"
          ]
        }
      ]
    },
    {
      "cell_type": "code",
      "metadata": {
        "colab": {
          "base_uri": "https://localhost:8080/"
        },
        "id": "5Lb5ay88pDGc",
        "outputId": "bdb1d9f3-e5f8-4b46-9233-6125ed895015"
      },
      "source": [
        "makes_twenty(2,3)"
      ],
      "execution_count": null,
      "outputs": [
        {
          "output_type": "stream",
          "name": "stdout",
          "text": [
            "False\n"
          ]
        }
      ]
    },
    {
      "cell_type": "markdown",
      "metadata": {
        "id": "LPtvl050pZat"
      },
      "source": [
        "#Question 3"
      ]
    },
    {
      "cell_type": "code",
      "metadata": {
        "id": "LENc7BrlpbMe"
      },
      "source": [
        "def almost_there(a):\n",
        "  if a >= 90 and a <= 110:\n",
        "    print(True)\n",
        "  elif a >= 190 and a <= 210:\n",
        "    print(True)\n",
        "  else:\n",
        "    print(False)"
      ],
      "execution_count": null,
      "outputs": []
    },
    {
      "cell_type": "code",
      "metadata": {
        "colab": {
          "base_uri": "https://localhost:8080/"
        },
        "id": "4YsKs7uvqPPG",
        "outputId": "27871e2c-b396-4d0c-918f-473a40bbb151"
      },
      "source": [
        "almost_there(90)"
      ],
      "execution_count": null,
      "outputs": [
        {
          "output_type": "stream",
          "name": "stdout",
          "text": [
            "True\n"
          ]
        }
      ]
    },
    {
      "cell_type": "code",
      "metadata": {
        "colab": {
          "base_uri": "https://localhost:8080/"
        },
        "id": "o6wujV2pqcMD",
        "outputId": "4b502457-082a-4397-fdb6-b5f65799fe61"
      },
      "source": [
        "almost_there(104)"
      ],
      "execution_count": null,
      "outputs": [
        {
          "output_type": "stream",
          "name": "stdout",
          "text": [
            "True\n"
          ]
        }
      ]
    },
    {
      "cell_type": "code",
      "metadata": {
        "colab": {
          "base_uri": "https://localhost:8080/"
        },
        "id": "RKmuAVFJqerF",
        "outputId": "de135b14-212c-448d-9c5d-d63700591f3c"
      },
      "source": [
        "almost_there(150)"
      ],
      "execution_count": null,
      "outputs": [
        {
          "output_type": "stream",
          "name": "stdout",
          "text": [
            "False\n"
          ]
        }
      ]
    },
    {
      "cell_type": "code",
      "metadata": {
        "colab": {
          "base_uri": "https://localhost:8080/"
        },
        "id": "gVaISItYqipJ",
        "outputId": "97df6179-9fa4-4847-916c-b4ad065b02fe"
      },
      "source": [
        "almost_there(209)"
      ],
      "execution_count": null,
      "outputs": [
        {
          "output_type": "stream",
          "name": "stdout",
          "text": [
            "True\n"
          ]
        }
      ]
    },
    {
      "cell_type": "markdown",
      "metadata": {
        "id": "KpdEJZart0lw"
      },
      "source": [
        "#Question 4"
      ]
    },
    {
      "cell_type": "code",
      "metadata": {
        "id": "niJTpdCat2QB"
      },
      "source": [
        "def blackjack(a,b,c):\n",
        "  if a < 1 or a > 11 or b < 1 or b > 11 or c < 1 or c > 11:\n",
        "    print(\"Error\")\n",
        "  elif a + b + c <= 21:\n",
        "    print(a+b+c)\n",
        "  elif 11 in (a,b,c) and a + b + c > 21:\n",
        "    new_result = a + b + c - 10\n",
        "    if new_result <= 21:\n",
        "      print(new_result)\n",
        "    else:\n",
        "      print(\"'BUST'\") \n",
        "  else:\n",
        "    print(\"'BUST'\")    "
      ],
      "execution_count": null,
      "outputs": []
    },
    {
      "cell_type": "code",
      "metadata": {
        "colab": {
          "base_uri": "https://localhost:8080/"
        },
        "id": "gMkOXeNKwSge",
        "outputId": "cd526ffc-8fd6-45eb-c632-038ddd458c80"
      },
      "source": [
        "blackjack(5,6,7)"
      ],
      "execution_count": null,
      "outputs": [
        {
          "output_type": "stream",
          "name": "stdout",
          "text": [
            "18\n"
          ]
        }
      ]
    },
    {
      "cell_type": "code",
      "metadata": {
        "colab": {
          "base_uri": "https://localhost:8080/"
        },
        "id": "4pGmQkrS5dTg",
        "outputId": "412ffaad-ba36-4526-8493-a81224e67619"
      },
      "source": [
        "blackjack(9,9,9)"
      ],
      "execution_count": null,
      "outputs": [
        {
          "output_type": "stream",
          "name": "stdout",
          "text": [
            "'BUST'\n"
          ]
        }
      ]
    },
    {
      "cell_type": "code",
      "metadata": {
        "colab": {
          "base_uri": "https://localhost:8080/"
        },
        "id": "eepRYytxAul1",
        "outputId": "2f181bfe-864f-4369-b96b-c635f1b7b672"
      },
      "source": [
        "blackjack(9,9,11)"
      ],
      "execution_count": null,
      "outputs": [
        {
          "output_type": "stream",
          "name": "stdout",
          "text": [
            "19\n"
          ]
        }
      ]
    },
    {
      "cell_type": "markdown",
      "metadata": {
        "id": "CcS1JPvVB-YN"
      },
      "source": [
        "#Question 5"
      ]
    },
    {
      "cell_type": "code",
      "metadata": {
        "id": "kSWjiJQ2CAPM"
      },
      "source": [
        "def spy_game(a):\n",
        "  for b in a:\n",
        "    if b == 0:\n",
        "      continue\n",
        "    if b== 0:\n",
        "      continue\n",
        "    if b== 7:\n",
        "      print(\"True\")\n",
        "      break\n",
        "  else:\n",
        "    print(\"False\")"
      ],
      "execution_count": null,
      "outputs": []
    },
    {
      "cell_type": "code",
      "metadata": {
        "colab": {
          "base_uri": "https://localhost:8080/"
        },
        "id": "E5F_EoMXYU7Y",
        "outputId": "c0233c77-b8c9-4bce-9935-18cbb10c3b88"
      },
      "source": [
        "spy_game([1,2,4,0,0,7,5]) "
      ],
      "execution_count": null,
      "outputs": [
        {
          "output_type": "stream",
          "name": "stdout",
          "text": [
            "True\n"
          ]
        }
      ]
    },
    {
      "cell_type": "code",
      "metadata": {
        "colab": {
          "base_uri": "https://localhost:8080/"
        },
        "id": "T5dqtzaHa_q4",
        "outputId": "85a67569-2793-4204-ec05-a2578d973f93"
      },
      "source": [
        "spy_game([1,0,2,4,0,5,7])"
      ],
      "execution_count": null,
      "outputs": [
        {
          "output_type": "stream",
          "name": "stdout",
          "text": [
            "True\n"
          ]
        }
      ]
    },
    {
      "cell_type": "code",
      "metadata": {
        "colab": {
          "base_uri": "https://localhost:8080/"
        },
        "id": "K7UqYA-TbAME",
        "outputId": "213e3cee-43c7-4e95-a7b0-82459c4b8a3b"
      },
      "source": [
        "spy_game([1,7,2,0,4,5,0]) "
      ],
      "execution_count": null,
      "outputs": [
        {
          "output_type": "stream",
          "name": "stdout",
          "text": [
            "True\n"
          ]
        }
      ]
    },
    {
      "cell_type": "markdown",
      "metadata": {
        "id": "f8ebwEgkKCwE"
      },
      "source": [
        "#Question 6"
      ]
    },
    {
      "cell_type": "code",
      "metadata": {
        "id": "KsrJ0PodKE1T"
      },
      "source": [
        "def count_primes(a):\n",
        "  primes = []\n",
        "  if a < 2:\n",
        "    print(0)\n",
        "  elif a >= 2:\n",
        "    for b in range(2,a+1):\n",
        "      for c in range(2,b):\n",
        "        if b%c == 0:\n",
        "          break\n",
        "      else:\n",
        "        primes.append(b)\n",
        "        d = list(set(primes))\n",
        "    print(len(d))\n",
        "      \n"
      ],
      "execution_count": null,
      "outputs": []
    },
    {
      "cell_type": "code",
      "metadata": {
        "colab": {
          "base_uri": "https://localhost:8080/"
        },
        "id": "VzlSHipWC6wJ",
        "outputId": "8fb851ef-e43b-4e8b-d72a-7b499fd9849a"
      },
      "source": [
        "count_primes(100)"
      ],
      "execution_count": null,
      "outputs": [
        {
          "output_type": "stream",
          "name": "stdout",
          "text": [
            "25\n"
          ]
        }
      ]
    }
  ]
}